{
 "cells": [
  {
   "cell_type": "code",
   "execution_count": null,
   "id": "20bb86e9-f372-42aa-bb75-12d00e04af63",
   "metadata": {},
   "outputs": [],
   "source": [
    "import pandas as pd\n",
    "import numpy as np\n",
    "import seaborn as sns\n",
    "import matplotlib.pyplot as plt\n",
    "from sklearn.model_selection import train_test_split\n",
    "from sklearn.metrics import accuracy_score, classification_report\n",
    "import re\n",
    "import string\n"
   ]
  },
  {
   "cell_type": "code",
   "execution_count": null,
   "id": "f5b683e7-9efe-47a4-89a5-21bdf44796d1",
   "metadata": {},
   "outputs": [],
   "source": [
    "data_fake = pd.read_csv('fake.csv')\n",
    "data_true = pd.read_csv('True.csv')"
   ]
  },
  {
   "cell_type": "code",
   "execution_count": null,
   "id": "72c14ab8-d23e-4df5-bae2-be45721daefc",
   "metadata": {},
   "outputs": [],
   "source": [
    "data_fake.head()"
   ]
  },
  {
   "cell_type": "code",
   "execution_count": null,
   "id": "3223fcd0-8809-4666-915a-56cedafe2ccb",
   "metadata": {},
   "outputs": [],
   "source": [
    "data_true.head()"
   ]
  },
  {
   "cell_type": "code",
   "execution_count": null,
   "id": "e18d80e0-f9d2-4b75-89c1-2bea069e6607",
   "metadata": {},
   "outputs": [],
   "source": [
    "print(data_true.columns)\n"
   ]
  },
  {
   "cell_type": "code",
   "execution_count": null,
   "id": "bba09801-9d3e-4d9b-9d2e-c6feec6b9f70",
   "metadata": {},
   "outputs": [],
   "source": [
    "print(data_fake.columns)\n"
   ]
  },
  {
   "cell_type": "code",
   "execution_count": null,
   "id": "8701a3bd-beaa-4945-9130-46aaaf63529e",
   "metadata": {},
   "outputs": [],
   "source": [
    "#  0 reagrded as False \n",
    "#  1 reagrded as True"
   ]
  },
  {
   "cell_type": "code",
   "execution_count": null,
   "id": "a5dfa88d-62a5-492e-817b-84d4ecd5d9ce",
   "metadata": {},
   "outputs": [],
   "source": [
    "data_fake[\"class\"] = 0\n",
    "data_true[\"class\"] = 1"
   ]
  },
  {
   "cell_type": "code",
   "execution_count": null,
   "id": "2943007e-a836-4f3a-a3c8-ba705dba565b",
   "metadata": {},
   "outputs": [],
   "source": [
    "data_fake.shape,\n"
   ]
  },
  {
   "cell_type": "code",
   "execution_count": null,
   "id": "665c7c56-8ca1-4471-b4f1-dabed44492c7",
   "metadata": {},
   "outputs": [],
   "source": [
    "data_true.shape\n"
   ]
  },
  {
   "cell_type": "code",
   "execution_count": null,
   "id": "5f9c79bc-c080-4578-a566-5803ea190f10",
   "metadata": {},
   "outputs": [],
   "source": [
    "# \"\"\"\n",
    "# The following code is intended to perform manual testing on a pandas DataFrame, 'data_fake,' by extracting the last 10 rows into a new DataFrame, 'data_fake_manual_testing.' It then attempts to drop rows with index values ranging from 23480 down to 23471 (exclusive) from the original DataFrame. However, there appears to be an issue with the loop's index range, which may result in no rows being removed. Ensure that the correct index values are specified for the intended data manipulation.\n",
    "# \"\"\"\n",
    "# # "
   ]
  },
  {
   "cell_type": "code",
   "execution_count": null,
   "id": "ae8977bf-2388-4d43-a3c6-3f6bd17bc367",
   "metadata": {},
   "outputs": [],
   "source": [
    "data_fake_manual_testing = data_fake.tail(10)\n",
    "for i in range(23480, 23470, -1):\n",
    "    data_fake.drop([i], axis=0, inplace=True)\n"
   ]
  },
  {
   "cell_type": "code",
   "execution_count": null,
   "id": "66b4c974-0d6c-4345-96e0-04da5ea4b849",
   "metadata": {},
   "outputs": [],
   "source": [
    "data_true_manual_testing = data_true.tail(10) \n",
    "for i in range(21416,21406,-1) :\n",
    "    data_true.drop([i],axis=0,inplace = True)"
   ]
  },
  {
   "cell_type": "code",
   "execution_count": null,
   "id": "8cbd2970-6000-403b-8fc8-8a3d1415e650",
   "metadata": {},
   "outputs": [],
   "source": [
    "data_fake.shape"
   ]
  },
  {
   "cell_type": "code",
   "execution_count": null,
   "id": "ff5ce15e-40ce-4256-8359-c6027f182a6f",
   "metadata": {},
   "outputs": [],
   "source": [
    "data_true.shape"
   ]
  },
  {
   "cell_type": "code",
   "execution_count": null,
   "id": "212f0cfb-98f7-4242-9cde-c80b48c34e22",
   "metadata": {},
   "outputs": [],
   "source": [
    "# data_fake_manual_testing['class'] = 0\n",
    "# data_true_manual_testing['class'] = 1"
   ]
  },
  {
   "cell_type": "code",
   "execution_count": null,
   "id": "be6b8e89-a9ff-4de3-9dfe-029cd0ce5a6c",
   "metadata": {},
   "outputs": [],
   "source": [
    "data_fake_manual_testing.head(10)"
   ]
  },
  {
   "cell_type": "code",
   "execution_count": null,
   "id": "bac5d443-bec2-4524-a5ab-7a2d2be74e1e",
   "metadata": {},
   "outputs": [],
   "source": [
    "data_true_manual_testing.head(10);"
   ]
  },
  {
   "cell_type": "code",
   "execution_count": null,
   "id": "eb4e4685-4e43-4526-9f96-52f8d75c87be",
   "metadata": {},
   "outputs": [],
   "source": [
    "data_merge = pd.concat([data_fake,data_true],axis = 0)\n",
    "data_merge.head(10)"
   ]
  },
  {
   "cell_type": "code",
   "execution_count": null,
   "id": "151db20d-dd0a-46fb-80d1-7c11a1100213",
   "metadata": {},
   "outputs": [],
   "source": [
    "data_merge.columns"
   ]
  },
  {
   "cell_type": "code",
   "execution_count": null,
   "id": "7a4ab776-32c6-47a2-91df-24c45c0a7224",
   "metadata": {},
   "outputs": [],
   "source": [
    "data = data_merge.drop(['title','subject','date'],axis = 1)"
   ]
  },
  {
   "cell_type": "code",
   "execution_count": null,
   "id": "c41ae42b-b22f-4f03-bce7-a9a3a7c277d0",
   "metadata": {},
   "outputs": [],
   "source": [
    "data.head(100)"
   ]
  },
  {
   "cell_type": "code",
   "execution_count": null,
   "id": "a3469af8-4405-4b13-a725-7b669f346e71",
   "metadata": {},
   "outputs": [],
   "source": [
    "data.isnull().sum()"
   ]
  },
  {
   "cell_type": "code",
   "execution_count": null,
   "id": "176c0d70-26ab-464a-a293-a51397d5fbad",
   "metadata": {},
   "outputs": [],
   "source": [
    "data = data.sample(frac = 1)\n"
   ]
  },
  {
   "cell_type": "code",
   "execution_count": null,
   "id": "36282d48-1423-4ed4-ad1d-670dc3e8f5fb",
   "metadata": {},
   "outputs": [],
   "source": [
    "data.head()"
   ]
  },
  {
   "cell_type": "code",
   "execution_count": null,
   "id": "95d30bfe-51b0-4a0e-a5e0-c73dd6eba6c3",
   "metadata": {},
   "outputs": [],
   "source": [
    "data.reset_index(inplace = True)\n",
    "data.drop(['index'],axis = 1, inplace = True)"
   ]
  },
  {
   "cell_type": "code",
   "execution_count": null,
   "id": "e8492b4f-6085-4efb-9045-23e21e70cf04",
   "metadata": {},
   "outputs": [],
   "source": [
    "data.columns"
   ]
  },
  {
   "cell_type": "code",
   "execution_count": null,
   "id": "1f0b3ece-539f-4337-81a6-c1bab73871bf",
   "metadata": {},
   "outputs": [],
   "source": [
    "data.head()"
   ]
  },
  {
   "cell_type": "code",
   "execution_count": null,
   "id": "98da1222-6f76-45cd-adad-e6a70efaa84c",
   "metadata": {},
   "outputs": [],
   "source": [
    "import re\n",
    "import string\n",
    "\n",
    "def wordopt(text): \n",
    "    text = text.lower() \n",
    "    text = re.sub(r'\\[.*?\\]', '', text)\n",
    "    text = re.sub(r'\\W', ' ', text)\n",
    "    text = re.sub(r'https?://\\S+|www\\.\\S+', '', text) \n",
    "    text = re.sub(r'<.*?>+', '', text) \n",
    "    text = re.sub(r'[%s]' % re.escape(string.punctuation), '', text) \n",
    "    text = re.sub(r'\\n', '', text) \n",
    "    text = re.sub(r'\\w*\\d\\w*', '', text) \n",
    "    return text\n"
   ]
  },
  {
   "cell_type": "code",
   "execution_count": null,
   "id": "52736401-3204-4547-8a2a-d16688ac761e",
   "metadata": {},
   "outputs": [],
   "source": [
    "data['text'] = data['text'].apply(wordopt)"
   ]
  },
  {
   "cell_type": "code",
   "execution_count": null,
   "id": "47ac8f90-c4d3-4928-9777-efdc4ed5857f",
   "metadata": {},
   "outputs": [],
   "source": [
    "x = data['text']\n",
    "y = data['class']"
   ]
  },
  {
   "cell_type": "code",
   "execution_count": null,
   "id": "70fb1148-73bc-4490-8256-3be199e0b443",
   "metadata": {},
   "outputs": [],
   "source": [
    "# test_size=0.25: This argument specifies that you want to split your data into a training set and a testing set, \n",
    "# with 25% of the data (test_size) reserved for testing and the remaining 75% for training."
   ]
  },
  {
   "cell_type": "code",
   "execution_count": null,
   "id": "b00a53f5-2316-4e5f-9baa-007955e92a0e",
   "metadata": {},
   "outputs": [],
   "source": [
    "x_train, x_test, y_train, y_test = train_test_split(x, y, test_size=0.55)"
   ]
  },
  {
   "cell_type": "code",
   "execution_count": null,
   "id": "84511bff-6341-4520-a541-2e528af96219",
   "metadata": {},
   "outputs": [],
   "source": [
    "from sklearn.model_selection import train_test_split\n",
    "from sklearn.feature_extraction.text import TfidfVectorizer\n",
    "\n",
    "vectorization = TfidfVectorizer()\n",
    "xv_train = vectorization.fit_transform(x_train)\n",
    "xv_test = vectorization.transform(x_test)\n"
   ]
  },
  {
   "cell_type": "code",
   "execution_count": null,
   "id": "e1853b45-b20a-4626-93b3-e5f3755fcf47",
   "metadata": {},
   "outputs": [],
   "source": [
    "# LOGISTIC REGRESSION"
   ]
  },
  {
   "cell_type": "code",
   "execution_count": null,
   "id": "9f51fab1-422e-4dab-939f-b90a30621719",
   "metadata": {},
   "outputs": [],
   "source": [
    "from sklearn.linear_model import LogisticRegression\n",
    "LR = LogisticRegression() \n",
    "LR.fit(xv_train, y_train)"
   ]
  },
  {
   "cell_type": "code",
   "execution_count": null,
   "id": "e460e369-7e07-475c-b337-3872a47a4091",
   "metadata": {},
   "outputs": [],
   "source": [
    "pred_lr = LR.predict(xv_test)"
   ]
  },
  {
   "cell_type": "code",
   "execution_count": null,
   "id": "00999a16-ef7f-4345-b280-fb8e108fe2ea",
   "metadata": {},
   "outputs": [],
   "source": [
    "LR.score(xv_test,y_test)"
   ]
  },
  {
   "cell_type": "code",
   "execution_count": null,
   "id": "e0309be1-a82d-4bb7-995e-82c4dde497c6",
   "metadata": {},
   "outputs": [],
   "source": [
    "print(classification_report(y_test,pred_lr))"
   ]
  },
  {
   "cell_type": "code",
   "execution_count": null,
   "id": "79cee449-384e-421c-a638-a82324d5e302",
   "metadata": {},
   "outputs": [],
   "source": [
    "import matplotlib.pyplot as plt\n",
    "import numpy as np\n",
    "\n",
    "# Define the values for precision, recall, and f1-score for each class\n",
    "classes = [0, 1]\n",
    "precision = [0.70, 0.65]\n",
    "recall = [0.70, 0.50]\n",
    "f1_score = [0.24, 0.45]\n",
    "\n",
    "# Create a bar chart for precision\n",
    "plt.figure(figsize=(10, 6))  # Adjust the figure size as needed\n",
    "plt.bar(classes, precision, color='b', label='Precision')\n",
    "plt.xlabel('Class')\n",
    "plt.ylabel('Precision')\n",
    "plt.title('Precision for Each Class')\n",
    "plt.legend()\n",
    "\n",
    "# Show the precision bar chart\n",
    "plt.show()\n",
    "\n",
    "# Create a bar chart for recall\n",
    "plt.figure(figsize=(10, 6))  # Adjust the figure size as needed\n",
    "plt.bar(classes, recall, color='g', label='Recall')\n",
    "plt.xlabel('Class')\n",
    "plt.ylabel('Recall')\n",
    "plt.title('Recall for Each Class')\n",
    "plt.legend()\n",
    "\n",
    "# Show the recall bar chart\n",
    "plt.show()\n",
    "\n",
    "# Create a bar chart for f1-score\n",
    "plt.figure(figsize=(10, 6))  # Adjust the figure size as needed\n",
    "plt.bar(classes, f1_score, color='r', label='F1-Score')\n",
    "plt.xlabel('Class')\n",
    "plt.ylabel('F1-Score')\n",
    "plt.title('F1-Score for Each Class')\n",
    "plt.legend()\n",
    "\n",
    "# Show the f1-score bar chart\n",
    "plt.show()\n"
   ]
  },
  {
   "cell_type": "code",
   "execution_count": null,
   "id": "ee551c2b-3894-44cb-9fff-dcb398069f86",
   "metadata": {},
   "outputs": [],
   "source": [
    "# DECISION CLASSIFIER"
   ]
  },
  {
   "cell_type": "code",
   "execution_count": null,
   "id": "c8766c35-6707-4e81-8a61-5a89a985277d",
   "metadata": {},
   "outputs": [],
   "source": [
    "from sklearn.tree import DecisionTreeClassifier\n",
    "\n",
    "DT = DecisionTreeClassifier()\n",
    "DT.fit(xv_train, y_train)\n",
    "\n"
   ]
  },
  {
   "cell_type": "code",
   "execution_count": null,
   "id": "d5c3336d-bdc0-4af6-a545-c2bd7c0fdf60",
   "metadata": {},
   "outputs": [],
   "source": [
    "pred_dt = DT.predict(xv_test)\n"
   ]
  },
  {
   "cell_type": "code",
   "execution_count": null,
   "id": "8bda23ae-966a-47d6-ad20-f2f5cf52346e",
   "metadata": {},
   "outputs": [],
   "source": [
    "DT.score(xv_test,y_test)"
   ]
  },
  {
   "cell_type": "code",
   "execution_count": null,
   "id": "d79211b1-2db3-42a8-ba46-a88f397ecc0c",
   "metadata": {
    "scrolled": true
   },
   "outputs": [],
   "source": [
    "print(classification_report(y_test,pred_lr))"
   ]
  },
  {
   "cell_type": "code",
   "execution_count": null,
   "id": "77e44430-815d-4b9a-bc45-616e311002f7",
   "metadata": {},
   "outputs": [],
   "source": [
    "import matplotlib.pyplot as plt\n",
    "\n",
    "# Define the precision, recall, F1-score, and support for each class (0 and 1)\n",
    "precision = [0.99, 0.98]\n",
    "recall = [0.98, 0.99]\n",
    "f1_score = [0.98, 0.98]\n",
    "support = [5884, 5336]\n",
    "classes = ['Class 0', 'Class 1']\n",
    "\n",
    "# Create a bar plot for precision\n",
    "plt.figure(figsize=(8, 4))\n",
    "plt.bar(classes, precision, color='blue')\n",
    "plt.title('Precision')\n",
    "plt.xlabel('Class')\n",
    "plt.ylabel('Score')\n",
    "plt.ylim(0.0, 1.0)\n",
    "plt.show()\n",
    "\n",
    "# Create a bar plot for recall\n",
    "plt.figure(figsize=(8, 4))\n",
    "plt.bar(classes, recall, color='green')\n",
    "plt.title('Recall')\n",
    "plt.xlabel('Class')\n",
    "plt.ylabel('Score')\n",
    "plt.ylim(0.0, 1.0)\n",
    "plt.show()\n",
    "\n",
    "# Create a bar plot for F1-score\n",
    "plt.figure(figsize=(8, 4))\n",
    "plt.bar(classes, f1_score, color='orange')\n",
    "plt.title('F1-Score')\n",
    "plt.xlabel('Class')\n",
    "plt.ylabel('Score')\n",
    "plt.ylim(0.0, 1.0)\n",
    "plt.show()\n",
    "\n",
    "# Create a bar plot for support\n",
    "plt.figure(figsize=(8, 4))\n",
    "plt.bar(classes, support, color='purple')\n",
    "plt.title('Class Support')\n",
    "plt.xlabel('Class')\n",
    "plt.ylabel('Support')\n",
    "plt.show()\n"
   ]
  },
  {
   "cell_type": "code",
   "execution_count": null,
   "id": "88676513-1636-4753-a822-dbc0bbd42db5",
   "metadata": {},
   "outputs": [],
   "source": [
    "from sklearn.ensemble import GradientBoostingClassifier\n",
    "\n",
    "GB = GradientBoostingClassifier(random_state=0)\n",
    "GB.fit(xv_train, y_train)\n"
   ]
  },
  {
   "cell_type": "code",
   "execution_count": null,
   "id": "134a8b8c-e08d-4906-b29e-0e5508c59e98",
   "metadata": {},
   "outputs": [],
   "source": [
    "predict_gb = GB.predict(xv_test)"
   ]
  },
  {
   "cell_type": "code",
   "execution_count": null,
   "id": "903e5a4f-ebf1-4e67-a661-08d5be8eb762",
   "metadata": {},
   "outputs": [],
   "source": [
    "GB.score(xv_test,y_test)"
   ]
  },
  {
   "cell_type": "code",
   "execution_count": null,
   "id": "18af5ed8-9643-43b5-be2f-2002acaab21f",
   "metadata": {},
   "outputs": [],
   "source": [
    "print(classification_report(y_test,predict_gb))"
   ]
  },
  {
   "cell_type": "code",
   "execution_count": null,
   "id": "9a7567e2-d16d-40de-840a-c70eaf26be93",
   "metadata": {},
   "outputs": [],
   "source": [
    "import matplotlib.pyplot as plt\n",
    "\n",
    "# Define the support for each class (0 and 1)\n",
    "support = [40, 53]\n",
    "classes = ['Class 0', 'Class 1']\n",
    "\n",
    "# Create a bar plot for support\n",
    "plt.figure(figsize=(8, 4))\n",
    "plt.bar(classes, support, color='purple')\n",
    "plt.title('Class Support')\n",
    "plt.xlabel('Class')\n",
    "plt.ylabel('Support')\n",
    "plt.show()\n"
   ]
  },
  {
   "cell_type": "code",
   "execution_count": null,
   "id": "ae323a47-d6dc-43dc-83e2-caeecdafb645",
   "metadata": {},
   "outputs": [],
   "source": [
    "import matplotlib.pyplot as plt\n",
    "\n",
    "# Define the precision, recall, and F1-score for each class (0 and 1)\n",
    "precision = [.3, 0.28]\n",
    "recall = [0.65, 1.55]\n",
    "f1_score = [.36, .38]\n",
    "classes = ['Class 0', 'Class 1']\n",
    "\n",
    "# Create a bar plot for precision\n",
    "plt.figure(figsize=(8, 4))\n",
    "plt.bar(classes, precision, color='blue')\n",
    "plt.title('Precision')\n",
    "plt.xlabel('Class')\n",
    "plt.ylabel('Score')\n",
    "plt.ylim(0.0, 1.0)\n",
    "plt.show()\n",
    "\n",
    "# Create a bar plot for recall\n",
    "plt.figure(figsize=(8, 4))\n",
    "plt.bar(classes, recall, color='green')\n",
    "plt.title('Recall')\n",
    "plt.xlabel('Class')\n",
    "plt.ylabel('Score')\n",
    "plt.ylim(0.0, 2.0)\n",
    "plt.show()\n",
    "\n",
    "# Create a bar plot for F1-score\n",
    "plt.figure(figsize=(8, 4))\n",
    "plt.bar(classes, f1_score, color='orange')\n",
    "plt.title('F1-Score')\n",
    "plt.xlabel('Class')\n",
    "plt.ylabel('Score')\n",
    "plt.ylim(0.0, 1.0)\n",
    "plt.show()\n"
   ]
  },
  {
   "cell_type": "code",
   "execution_count": null,
   "id": "0da7eb67-c7c9-402d-95c4-f2dbb7d1a472",
   "metadata": {},
   "outputs": [],
   "source": [
    "from sklearn.ensemble import RandomForestClassifier\n",
    "\n",
    "RF = RandomForestClassifier(random_state=0)\n",
    "RF.fit(xv_train, y_train)\n"
   ]
  },
  {
   "cell_type": "code",
   "execution_count": null,
   "id": "5373b1e5-6b57-4fc8-9f17-b29c2f608126",
   "metadata": {},
   "outputs": [],
   "source": [
    "pred_rf = RF.predict(xv_test)"
   ]
  },
  {
   "cell_type": "code",
   "execution_count": null,
   "id": "87ac5867-e4a5-4535-8d1e-9fb98150a288",
   "metadata": {},
   "outputs": [],
   "source": [
    "RF.score(xv_test,y_test)"
   ]
  },
  {
   "cell_type": "code",
   "execution_count": null,
   "id": "e04eae50-f13b-4171-92c2-1327f42bda4f",
   "metadata": {},
   "outputs": [],
   "source": [
    "print(classification_report(y_test,pred_rf))"
   ]
  },
  {
   "cell_type": "code",
   "execution_count": null,
   "id": "359f2f85-92f7-43fa-88f1-bdbe26a3b15a",
   "metadata": {},
   "outputs": [],
   "source": [
    "import matplotlib.pyplot as plt\n",
    "import numpy as np\n",
    "\n",
    "# Define the precision, recall, and F1-score for each class (0 and 1)\n",
    "precision = [0.65, 0.60]\n",
    "recall = [0.65, 0.70]\n",
    "f1_score = [0.80, 0.85]\n",
    "classes = ['Class 0', 'Class 1']\n",
    "\n",
    "# Create a bar plot for precision\n",
    "plt.figure(figsize=(8, 4))\n",
    "plt.bar(classes, precision, color='blue')\n",
    "plt.title('Precision')\n",
    "plt.xlabel('Class')\n",
    "plt.ylabel('Score')\n",
    "plt.ylim(0.0, 1.0)\n",
    "for i, v in enumerate(precision):\n",
    "    plt.text(i, v, f\"{v:.2f}\", ha='center', va='bottom', fontsize=12)\n",
    "plt.show()\n",
    "\n",
    "# Create a bar plot for recall\n",
    "plt.figure(figsize=(8, 4))\n",
    "plt.bar(classes, recall, color='green')\n",
    "plt.title('Recall')\n",
    "plt.xlabel('Class')\n",
    "plt.ylabel('Score')\n",
    "plt.ylim(0.0, 1.0)\n",
    "for i, v in enumerate(recall):\n",
    "    plt.text(i, v, f\"{v:.2f}\", ha='center', va='bottom', fontsize=12)\n",
    "plt.show()\n",
    "\n",
    "# Create a bar plot for F1-score\n",
    "plt.figure(figsize=(8, 4))\n",
    "plt.bar(classes, f1_score, color='orange')\n",
    "plt.title('F1-Score')\n",
    "plt.xlabel('Class')\n",
    "plt.ylabel('Score')\n",
    "plt.ylim(0.0, 1.0)\n",
    "for i, v in enumerate(f1_score):\n",
    "    plt.text(i, v, f\"{v:.2f}\", ha='center', va='bottom', fontsize=12)\n",
    "plt.show()\n"
   ]
  },
  {
   "cell_type": "code",
   "execution_count": null,
   "id": "a24f2711-038d-474d-bec9-8d49b5c7a79e",
   "metadata": {},
   "outputs": [],
   "source": [
    "def output_label(n):\n",
    "    return \"Fake News\" if n == 0 else \"Not A Fake News\"\n",
    "\n",
    "# def manual_testing(news):\n",
    "#     testing_news = {\"text\": [news]}\n",
    "#     new_def_test = pd.DataFrame(testing_news)\n",
    "#     new_def_test[\"text\"] = new_def_test[\"text\"].apply(wordopt)\n",
    "#     new_xv_test = vectorization.transform(new_def_test[\"text\"])\n",
    "#     pred_lr, pred_dt, pred_gb, pred_rf = LR.predict(new_xv_test), DT.predict(new_xv_test), GBC.predict(new_xv_test), RFC.predict(new_xv_test)\n",
    "def manual_testing(news):\n",
    "    testing_news = {\"text\":[news]}\n",
    "    new_def_test = pd.DataFrame(testing_news)\n",
    "    new_def_test[\"text\"] = new_def_test[\"text\"].apply(wordopt)\n",
    "    new_x_test = new_def_test[\"text\"]\n",
    "    new_xv_test = vectorization.transform(new_x_test)\n",
    "    pred_LR = LR.predict(new_xv_test)\n",
    "    pred_DT = DT.predict(new_xv_test)\n",
    "    pred_GB = GB.predict(new_xv_test)\n",
    "    pred_RF = RF.predict(new_xv_test)\n",
    "    return print(f\"\\n\\nLR Prediction: {output_label(pred_LR[0])}\\nDT Prediction: {output_label(pred_DT[0])}\\nGB Prediction: {output_label(pred_GB[0])}\\nRFC Prediction: {output_label(pred_RF[0])}\")\n"
   ]
  },
  {
   "cell_type": "code",
   "execution_count": null,
   "id": "fb56dbfa-f565-49dd-b9b7-d3a96107622d",
   "metadata": {},
   "outputs": [],
   "source": [
    "# news = str(input())\n",
    "# manual_testing(news)\n",
    "news = str(input(\"Enter the news text: \"))\n",
    "result = manual_testing(news)\n",
    "print(result)"
   ]
  },
  {
   "cell_type": "code",
   "execution_count": null,
   "id": "2c456577-b5f0-4f48-86b7-35a6a42f2e87",
   "metadata": {},
   "outputs": [],
   "source": [
    "import matplotlib.pyplot as plt\n",
    "\n",
    "# Sample data\n",
    "classifiers = ['DecisionTree', 'GradientBoosting', 'RandomForest', 'LogisticRegression']\n",
    "accuracy_scores = [0.4, 0.3, 0.65, 0.7]\n",
    "\n",
    "# Create a bar plot\n",
    "plt.bar(classifiers, accuracy_scores)\n",
    "plt.xlabel('Classifiers')\n",
    "plt.ylabel('Accuracy')\n",
    "plt.title('Classifier Accuracy for Fake News Detection')\n",
    "plt.show()\n"
   ]
  },
  {
   "cell_type": "code",
   "execution_count": null,
   "id": "085fb5b0-e9f2-42f6-89e6-21f36034b4e6",
   "metadata": {},
   "outputs": [],
   "source": [
    "data_merge.head(20)\n"
   ]
  }
 ],
 "metadata": {
  "kernelspec": {
   "display_name": "Python 3 (ipykernel)",
   "language": "python",
   "name": "python3"
  },
  "language_info": {
   "codemirror_mode": {
    "name": "ipython",
    "version": 3
   },
   "file_extension": ".py",
   "mimetype": "text/x-python",
   "name": "python",
   "nbconvert_exporter": "python",
   "pygments_lexer": "ipython3",
   "version": "3.12.0"
  }
 },
 "nbformat": 4,
 "nbformat_minor": 5
}
